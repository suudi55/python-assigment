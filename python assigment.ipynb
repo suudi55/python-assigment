{
 "cells": [
  {
   "cell_type": "code",
   "execution_count": 3,
   "metadata": {},
   "outputs": [
    {
     "name": "stdout",
     "output_type": "stream",
     "text": [
      "3 is odd number.\n"
     ]
    }
   ],
   "source": [
    "# 1)determine if a given number is even or odd.and\n",
    "def num(n):\n",
    "    if(n%2)==0:\n",
    "        print(n, \"is an even number.\")\n",
    "    else:\n",
    "        print(n, \"is odd number.\") \n",
    "num(3)"
   ]
  },
  {
   "cell_type": "code",
   "execution_count": 8,
   "metadata": {},
   "outputs": [
    {
     "name": "stdout",
     "output_type": "stream",
     "text": [
      "8 is not prime number.\n"
     ]
    }
   ],
   "source": [
    "# 2)check if a given number is a prime number.\n",
    "def num(n):\n",
    "    for i in range (2,n):\n",
    "        if n%i == 0:\n",
    "            print(n, \"is not prime number.\")\n",
    "            break\n",
    "    else:\n",
    "        print(n,\"is a prime number.\")\n",
    "num(8)    "
   ]
  },
  {
   "cell_type": "code",
   "execution_count": 11,
   "metadata": {},
   "outputs": [
    {
     "name": "stdout",
     "output_type": "stream",
     "text": [
      "14 is the sum of the list\n"
     ]
    }
   ],
   "source": [
    "# 3) find the sum of all numbers in the list.\n",
    "list1 = [2,3,4,5]\n",
    "sum=0\n",
    "for i in range(0,4):  #len(list1)=4\n",
    "    sum += list1[i]\n",
    "print(sum, \"is the sum of the list\")\n"
   ]
  },
  {
   "cell_type": "code",
   "execution_count": 15,
   "metadata": {},
   "outputs": [
    {
     "name": "stdout",
     "output_type": "stream",
     "text": [
      "The factoria of  <function num at 0x0000019CB27C4900> is 24\n"
     ]
    }
   ],
   "source": [
    "# 4) find the factorial of a given number.\n",
    "n = int(input(\"Enter any number:\"))\n",
    "fact = 1\n",
    "for i in range (1, n+1):\n",
    "    fact *= i\n",
    "print (\"The factoria of \", num , \"is\", fact)"
   ]
  },
  {
   "cell_type": "code",
   "execution_count": 17,
   "metadata": {},
   "outputs": [
    {
     "name": "stdout",
     "output_type": "stream",
     "text": [
      "Max: 10\n"
     ]
    }
   ],
   "source": [
    "# 4)F ind the max of a given list.\n",
    "list2 = [3,4,5,6,10]\n",
    "max = list2[0]\n",
    "for i in list2:\n",
    "    if i>max:\n",
    "        max = i\n",
    "print(\"Max:\", max)\n",
    "\n",
    "    \n",
    "    \n",
    "    "
   ]
  },
  {
   "cell_type": "code",
   "execution_count": 35,
   "metadata": {},
   "outputs": [
    {
     "name": "stdout",
     "output_type": "stream",
     "text": [
      "0\n",
      "1\n",
      "1\n",
      "2\n"
     ]
    }
   ],
   "source": [
    "# 6) Generate the first n numbers in the fibonacci sequence (o,1,1,2,3,5,8,......)\n",
    "def fib():\n",
    "    n = int(input(\"Enter a number:\"))\n",
    "    a = 0\n",
    "    b = 1\n",
    "    print(a)\n",
    "    print(b)\n",
    "    for i in range(2,n):\n",
    "        c = a + b\n",
    "        a = b\n",
    "        b = c\n",
    "        print(c)\n",
    "fib()\n"
   ]
  },
  {
   "cell_type": "code",
   "execution_count": 36,
   "metadata": {},
   "outputs": [
    {
     "name": "stdout",
     "output_type": "stream",
     "text": [
      "Reversed_string  tuo ti yrt\n"
     ]
    }
   ],
   "source": [
    "# 7)Reverse a given string.\n",
    "name = (\"try it out\")\n",
    "str1 = \"\"\n",
    "for i in name:\n",
    "    str1 = i + str1\n",
    "print(\"Reversed_string \", str1)"
   ]
  },
  {
   "cell_type": "code",
   "execution_count": 37,
   "metadata": {},
   "outputs": [
    {
     "name": "stdout",
     "output_type": "stream",
     "text": [
      "GCD: 2\n"
     ]
    }
   ],
   "source": [
    "# 8) Find GCD of two given numbers using Euclid algorithm.\n",
    "a = int(input(\"Enter a number:\"))\n",
    "b = int(input(\"Enter a number:\"))\n",
    "while a%b !=0:\n",
    "    r = a%b\n",
    "    a = b\n",
    "    b = r\n",
    "GCD = b\n",
    "print(\"GCD:\", b)"
   ]
  },
  {
   "cell_type": "code",
   "execution_count": 38,
   "metadata": {},
   "outputs": [
    {
     "name": "stdout",
     "output_type": "stream",
     "text": [
      "AVG: 3.0\n"
     ]
    }
   ],
   "source": [
    "# 9) Calculate the average of numbers in a given list.\n",
    "list1 = [1,2,3,4,5]\n",
    "sum = 0\n",
    "i = 0\n",
    "while i < 5:  # len(list1) = 5\n",
    "    sum += list1[i]\n",
    "    i += 1\n",
    "print(\"AVG:\", sum/len(list1))"
   ]
  },
  {
   "cell_type": "code",
   "execution_count": 40,
   "metadata": {},
   "outputs": [
    {
     "name": "stdout",
     "output_type": "stream",
     "text": [
      "the  number of vowels in a string is 7\n"
     ]
    }
   ],
   "source": [
    "# 10) count numbers of vowels in a given string.\n",
    "str = \"hello python crash course\"\n",
    "vowels = \"aAeEIioOuU\"\n",
    "count = 0\n",
    "for i in str:\n",
    "    if i in vowels:\n",
    "        count += 1\n",
    "print(\"the  number of vowels in a string is\", count)"
   ]
  },
  {
   "cell_type": "code",
   "execution_count": 41,
   "metadata": {},
   "outputs": [
    {
     "name": "stdout",
     "output_type": "stream",
     "text": [
      "The temperature in feranite is 113.0\n"
     ]
    }
   ],
   "source": [
    "# 1) convert a temperature from celcius to fahreneit.\n",
    "c = int(input(\"enter a temperature i n celcius:\"))\n",
    "f = 9/5 *c +32\n",
    "print(\"The temperature in feranite is\", f)\n"
   ]
  },
  {
   "cell_type": "code",
   "execution_count": 46,
   "metadata": {},
   "outputs": [
    {
     "name": "stdout",
     "output_type": "stream",
     "text": [
      "the string is not palindrome\n"
     ]
    }
   ],
   "source": [
    "# 2) Check if a given number is a palindrome.\n",
    "str1 = input(\"Enter any string:\")\n",
    "reversed_string = str1[::-1]\n",
    "if str1 == reversed_string:\n",
    "    print(\"the string is palindrome.\")\n",
    "else:\n",
    "    print(\"the string is not palindrome\")\n",
    "\n",
    "\n",
    " "
   ]
  },
  {
   "cell_type": "code",
   "execution_count": 47,
   "metadata": {},
   "outputs": [
    {
     "name": "stdout",
     "output_type": "stream",
     "text": [
      "the power of a number is  8\n"
     ]
    }
   ],
   "source": [
    "# 3) calculate the power of a number given the base and exponent.\n",
    "def power(b,e):\n",
    "    prod = 1\n",
    "    for i in range(0,e):\n",
    "        prod *=b\n",
    "    print(\"the power of a number is \", prod)\n",
    "power(2,3)"
   ]
  },
  {
   "cell_type": "code",
   "execution_count": 48,
   "metadata": {},
   "outputs": [
    {
     "name": "stdout",
     "output_type": "stream",
     "text": [
      "the smallest number is  2\n"
     ]
    }
   ],
   "source": [
    "# 4) Find the smallest number in a given list of numbers.\n",
    "list2 = [6,7,8,4,2,10]\n",
    "smallest_number = list2[0]\n",
    "for i in list2:\n",
    "    if i  < smallest_number:\n",
    "        smallest_number = i\n",
    "print(\"the smallest number is \", smallest_number)\n"
   ]
  },
  {
   "cell_type": "code",
   "execution_count": 49,
   "metadata": {},
   "outputs": [
    {
     "name": "stdout",
     "output_type": "stream",
     "text": [
      "the number of consonants in a string is 15\n"
     ]
    }
   ],
   "source": [
    "# 5) count the number of consonants i  agiven string.\n",
    "str1 = input(\"Enter a string:\")\n",
    "coumt = 0\n",
    "vowels = \"AaeEiIoOuU\"\n",
    "for i in str1:\n",
    "    if i not in vowels:\n",
    "        count += 1\n",
    "print(\"the number of consonants in a string is\", count)"
   ]
  },
  {
   "cell_type": "code",
   "execution_count": 51,
   "metadata": {},
   "outputs": [
    {
     "name": "stdout",
     "output_type": "stream",
     "text": [
      "-4 is not positive\n"
     ]
    }
   ],
   "source": [
    "# conditional statement\n",
    "# 1) check if a number is positive.\n",
    "def num(n):\n",
    "    if n > 0:\n",
    "        print(n,\"is positive.\")\n",
    "    else:\n",
    "        print(n,\"is not positive\")\n",
    "num(-4)"
   ]
  },
  {
   "cell_type": "code",
   "execution_count": 53,
   "metadata": {},
   "outputs": [
    {
     "name": "stdout",
     "output_type": "stream",
     "text": [
      "4  is divisible by  2\n"
     ]
    }
   ],
   "source": [
    "# 2) check if a first number is divisible by a second number.\n",
    "def num(a,b):\n",
    "    if (a%b) == 0:\n",
    "        print(a,\" is divisible by \", b)\n",
    "    else:\n",
    "        print(a,\" is not divisible by \", b)\n",
    "num(4,2)"
   ]
  },
  {
   "cell_type": "code",
   "execution_count": 60,
   "metadata": {},
   "outputs": [
    {
     "name": "stdout",
     "output_type": "stream",
     "text": [
      "h is not vowel.\n",
      "e is vowel.\n",
      "e is vowel.\n"
     ]
    }
   ],
   "source": [
    "#3) determine if a character in a string is vowel.\n",
    "str1 = input(\"Enter a string:\")\n",
    "vowels = \"AaEeIiOoUu\"\n",
    "for i in str1:\n",
    "    if i in vowels:\n",
    "        print(i, \"is vowel.\")\n",
    "    else:\n",
    "        print(i, \"is not vowel.\")"
   ]
  },
  {
   "cell_type": "code",
   "execution_count": 63,
   "metadata": {},
   "outputs": [
    {
     "name": "stdout",
     "output_type": "stream",
     "text": [
      "7 is odd number.\n"
     ]
    }
   ],
   "source": [
    "# 4) check if a number is even or odd.\n",
    "def num(m):\n",
    "    if (m%2) == 0:\n",
    "        print(m, \"is an even number.\")\n",
    "    else:\n",
    "        print(m, \"is odd number.\")\n",
    "num(7)"
   ]
  },
  {
   "cell_type": "code",
   "execution_count": 65,
   "metadata": {},
   "outputs": [
    {
     "name": "stdout",
     "output_type": "stream",
     "text": [
      "The person is eligible to vote.\n"
     ]
    }
   ],
   "source": [
    "# 5) determine if a person is eligible to vote (age 18 or older).\n",
    "def age(n):\n",
    "    if n >= 18:\n",
    "        print(\"The person is eligible to vote.\")\n",
    "    else:\n",
    "        print(\"The person is not eligible to vote.\")\n",
    "age(77)"
   ]
  },
  {
   "cell_type": "code",
   "execution_count": 67,
   "metadata": {},
   "outputs": [
    {
     "name": "stdout",
     "output_type": "stream",
     "text": [
      "10 is positive.\n"
     ]
    }
   ],
   "source": [
    "# chained conditionals\n",
    "# 1) classify a number as positive , negative , or zero.\n",
    "def num(n):\n",
    "    if n > 0:\n",
    "        print(n, \"is positive.\")\n",
    "    elif n < 0:\n",
    "        print(n, \"is negative.\" )\n",
    "    else:\n",
    "        print(n, \"is zero\")\n",
    "num(10)"
   ]
  },
  {
   "cell_type": "code",
   "execution_count": 69,
   "metadata": {},
   "outputs": [
    {
     "name": "stdout",
     "output_type": "stream",
     "text": [
      "D\n"
     ]
    }
   ],
   "source": [
    "# 2) detrmine the grade of a student based on their score.\n",
    "def grade(n):\n",
    "    if n >= 90 and n <= 100:\n",
    "        print(\"A\")\n",
    "    elif n >= 80 and n < 90:\n",
    "        print(\"B\")\n",
    "    elif n >= 70 and n < 80:\n",
    "        print(\"C\")\n",
    "    elif n >=60 and n < 70:\n",
    "        print(\"D\")\n",
    "    else:\n",
    "        print(\"F\")\n",
    "grade(67)"
   ]
  },
  {
   "cell_type": "code",
   "execution_count": 78,
   "metadata": {},
   "outputs": [
    {
     "name": "stdout",
     "output_type": "stream",
     "text": [
      "400 is a leap year.\n",
      "400 is a leap year.\n"
     ]
    }
   ],
   "source": [
    "# nested conditionals \n",
    "# 1) write a program to detrmine if a given year is leap year.\n",
    "def year(n):\n",
    "    if (n%4) == 0:\n",
    "        print(n, \"is a leap year.\")\n",
    "        if (n%100) == 0 and (n%400) == 0:\n",
    "            print(n, \"is a leap year.\")\n",
    "    else:\n",
    "        print(n, \"is not a leap year.\")\n",
    "year(400)\n",
    "    "
   ]
  },
  {
   "cell_type": "code",
   "execution_count": 83,
   "metadata": {},
   "outputs": [
    {
     "name": "stdout",
     "output_type": "stream",
     "text": [
      "the second quadrant.\n"
     ]
    }
   ],
   "source": [
    "# 2) check if a point (x,y) lies in the first ,secon third or fourth quadrant system.\n",
    "def point(x , y):\n",
    "    if x > 0 and y > 0:\n",
    "        print(\"The first quadrant.\")\n",
    "    elif x < 0 and y > 0:\n",
    "        print(\"the second quadrant.\")\n",
    "    elif x < 0 and y < 0:\n",
    "        print(\"The third quadrant.\")\n",
    "    else:\n",
    "        print(\"the fourth quadrant.\")\n",
    "point(-3,5)"
   ]
  },
  {
   "cell_type": "code",
   "execution_count": 84,
   "metadata": {},
   "outputs": [
    {
     "name": "stdout",
     "output_type": "stream",
     "text": [
      "1\n",
      "2\n",
      "3\n",
      "4\n",
      "5\n",
      "6\n",
      "7\n",
      "8\n",
      "9\n",
      "10\n"
     ]
    }
   ],
   "source": [
    "# for loops\n",
    "# 1) print the first 10 natural numbrs.\n",
    "for i in range(1,11):\n",
    "    print(i)"
   ]
  },
  {
   "cell_type": "code",
   "execution_count": 86,
   "metadata": {},
   "outputs": [
    {
     "name": "stdout",
     "output_type": "stream",
     "text": [
      "The sum is  22\n"
     ]
    }
   ],
   "source": [
    "# 2) calculate the sum of all elements in a list.\n",
    "list1 = [10,3,4,5]\n",
    "sum = 0\n",
    "for i in range(0,4): #len(list1) = 4\n",
    "    sum += list1[i]\n",
    "print(\"The sum is \", sum)"
   ]
  },
  {
   "cell_type": "code",
   "execution_count": 89,
   "metadata": {},
   "outputs": [
    {
     "name": "stdout",
     "output_type": "stream",
     "text": [
      "h\n",
      "e\n",
      "l\n",
      "l\n",
      "o\n"
     ]
    }
   ],
   "source": [
    "# 3) print each character of a string on a new line.\n",
    "str1 = input(\"Enter string:\")\n",
    "for i in str1:\n",
    "    print(i)"
   ]
  },
  {
   "cell_type": "code",
   "execution_count": 91,
   "metadata": {},
   "outputs": [
    {
     "name": "stdout",
     "output_type": "stream",
     "text": [
      "The factoria of  <function num at 0x0000019CB6F8D800> is 24\n"
     ]
    }
   ],
   "source": [
    "# 4)find the factorial of a given number.\n",
    "n = int(input(\"Enter any number:\"))\n",
    "fact = 1\n",
    "for i in range (1, n+1):\n",
    "    fact *= i\n",
    "print (\"The factoria of \", num , \"is\", fact) "
   ]
  },
  {
   "cell_type": "code",
   "execution_count": 97,
   "metadata": {},
   "outputs": [
    {
     "name": "stdout",
     "output_type": "stream",
     "text": [
      "1\n",
      "2\n",
      "3\n",
      "4\n",
      "5\n",
      "6\n",
      "7\n",
      "8\n",
      "9\n",
      "10\n"
     ]
    }
   ],
   "source": [
    "#while loop\n",
    "# 1) print numbers from 1 to 10.\n",
    "i = 0\n",
    "while i < 10:\n",
    "    i +=1\n",
    "    print(i)"
   ]
  },
  {
   "cell_type": "code",
   "execution_count": 108,
   "metadata": {},
   "outputs": [
    {
     "name": "stdout",
     "output_type": "stream",
     "text": [
      "4\n",
      "5\n",
      "f\n",
      "y\n",
      "u\n",
      "u\n",
      "exit\n"
     ]
    }
   ],
   "source": [
    "# 2) keep accepting user input until they enter 'exit'.\n",
    "mesage = (\"enter what you want or 'exit'\")\n",
    "str = \"\"\n",
    "while str != 'exit':\n",
    "    str = input(mesage)\n",
    "    print(str)"
   ]
  }
 ],
 "metadata": {
  "kernelspec": {
   "display_name": "Python 3",
   "language": "python",
   "name": "python3"
  },
  "language_info": {
   "codemirror_mode": {
    "name": "ipython",
    "version": 3
   },
   "file_extension": ".py",
   "mimetype": "text/x-python",
   "name": "python",
   "nbconvert_exporter": "python",
   "pygments_lexer": "ipython3",
   "version": "3.11.9"
  }
 },
 "nbformat": 4,
 "nbformat_minor": 2
}
